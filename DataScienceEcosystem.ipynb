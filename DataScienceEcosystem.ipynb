{
 "cells": [
  {
   "cell_type": "markdown",
   "id": "ceb9e9f1-7366-44e5-870d-bebc4621f506",
   "metadata": {
    "tags": []
   },
   "source": [
    "# Data Science Tools and Ecosystem"
   ]
  },
  {
   "cell_type": "markdown",
   "id": "409471cb-9389-466b-989e-c6d9ec9050cb",
   "metadata": {},
   "source": [
    "In this notebook, Data Science Tools and Ecosystem are summarized."
   ]
  },
  {
   "cell_type": "markdown",
   "id": "8efb2dfd-5604-4ff0-8428-46ade0b0182d",
   "metadata": {},
   "source": [
    "Some of the popular languages that Data Scientists use are:\n",
    "- Python\n",
    "- R\n",
    "- SQL"
   ]
  },
  {
   "cell_type": "markdown",
   "id": "694b2f8c-d130-4e45-9c24-48e2b5a8f596",
   "metadata": {
    "tags": []
   },
   "source": [
    "Some of the commonly used libraries used by Data Scientists include:\n",
    "- pandas\n",
    "- NumPy\n",
    "- Scikit-learn"
   ]
  },
  {
   "cell_type": "markdown",
   "id": "90262ca3-3930-495c-9660-caf096632675",
   "metadata": {},
   "source": [
    "TABLE\n",
    "| Data Science Tools |\n",
    "|--------------------|\n",
    "| Jupyter Notebook   |\n",
    "| RStudio            |\n",
    "| Spyder             |\n"
   ]
  },
  {
   "cell_type": "markdown",
   "id": "5052e746-b60f-40f7-9442-d8fb256bc11c",
   "metadata": {
    "tags": []
   },
   "source": [
    "### Below are a few examples of evaluating arithmetic expressions in Python.\n",
    "\n",
    "Arithmetic expressions are fundamental in programming and are used to perform mathematical operations. Here are some examples:\n",
    "\n",
    "1. Addition:\n",
    "\n",
    "result = 10 + 5\n",
    "print(\"Result of addition:\", result)\n",
    "\n",
    "2.  Subtraction:\n",
    "\n",
    "result = 20 - 8 \n",
    "print(\"Result of subtraction:\", result)\n",
    "\n",
    "3.  Multiplication:\n",
    "\n",
    "result = 5 * 6\n",
    "print(\"Result of multiplication:\", result)\n",
    "\n",
    "4.  Division:\n",
    "\n",
    "result = 15 / 3\n",
    "print(\"Result of division:\", result)"
   ]
  },
  {
   "cell_type": "code",
   "execution_count": 3,
   "id": "be13e70d-85ee-4d01-81f1-2bc920b631f3",
   "metadata": {
    "tags": []
   },
   "outputs": [
    {
     "name": "stdout",
     "output_type": "stream",
     "text": [
      "Result: 17\n"
     ]
    }
   ],
   "source": [
    "# This is a simple arithmetic expression to multiply then add integers.\n",
    "result = (3 * 4) + 5\n",
    "print(\"Result:\", result)\n"
   ]
  },
  {
   "cell_type": "code",
   "execution_count": 4,
   "id": "73579cf8-c3e4-484c-b140-e3f25b6a6f3b",
   "metadata": {
    "tags": []
   },
   "outputs": [
    {
     "name": "stdout",
     "output_type": "stream",
     "text": [
      "3.3333333333333335\n"
     ]
    }
   ],
   "source": [
    " #This will convert 200 minutes to hours by diving by 60\n",
    "\n",
    "minutes= 200\n",
    "hours= minutes/60\n",
    "print(hours)"
   ]
  },
  {
   "cell_type": "markdown",
   "id": "8eee6e8c-1a88-46c9-81a3-f584aafdcc47",
   "metadata": {
    "tags": []
   },
   "source": [
    "**Objectives:**\n",
    "\n",
    "- List popular languages for Data Science.\n",
    "- Introduce common libraries used in Data Science.\n",
    "- Demonstrate arithmetic expression examples in Python.\n",
    "- Convert minutes to hours using Python code.\n",
    "- Explore key concepts in Data Science tools and ecosystem.\n"
   ]
  },
  {
   "cell_type": "markdown",
   "id": "6742471e-14dd-446f-90e0-8968a77436fd",
   "metadata": {},
   "source": [
    "## Author\n",
    "Vatsal Vaghasiya"
   ]
  }
 ],
 "metadata": {
  "kernelspec": {
   "display_name": "Python",
   "language": "python",
   "name": "conda-env-python-py"
  },
  "language_info": {
   "codemirror_mode": {
    "name": "ipython",
    "version": 3
   },
   "file_extension": ".py",
   "mimetype": "text/x-python",
   "name": "python",
   "nbconvert_exporter": "python",
   "pygments_lexer": "ipython3",
   "version": "3.7.12"
  }
 },
 "nbformat": 4,
 "nbformat_minor": 5
}
